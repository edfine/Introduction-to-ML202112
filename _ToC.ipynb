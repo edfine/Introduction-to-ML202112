{
 "cells": [
  {
   "cell_type": "markdown",
   "metadata": {},
   "source": [
    "# Table of Contents"
   ]
  },
  {
   "cell_type": "markdown",
   "metadata": {},
   "source": [
    "Slides\n",
    "Demo - Pandas.ipynb\n",
    "Demo - SF vs. NY.ipynb\n",
    "Demo - Scikit-learn.ipynb\n",
    "Demo - Linear Regression.ipynb\n",
    "Demo - Logistic Regression.ipynb\n",
    "Demo - Time Series Modelling\n",
    "Demo - Text Sentiment\n",
    "\n",
    "needed:\n",
    "\n",
    "Ensemble Learning\n",
    "Recommender Systems\n"
   ]
  }
 ],
 "metadata": {
  "language_info": {
   "name": "python"
  },
  "orig_nbformat": 4
 },
 "nbformat": 4,
 "nbformat_minor": 2
}
