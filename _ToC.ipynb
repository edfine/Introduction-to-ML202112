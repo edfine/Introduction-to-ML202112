{
 "cells": [
  {
   "cell_type": "markdown",
   "metadata": {},
   "source": [
    "# Table of Contents"
   ]
  },
  {
   "cell_type": "markdown",
   "metadata": {},
   "source": [
    "## Slides\n",
    "\n",
    "1. 01_AI_ML_Concepts\n",
    "\n",
    "1. Demo - Jupyter\n",
    "\n",
    "1. Demo - SF vs. NY\n",
    "\n",
    "1. Demo - Pandas\n",
    "\n",
    "1. Exercise - Pandas\n",
    "\n",
    "1. Demo - Scikit-learn\n",
    "\n",
    "1. Demo - Linear Regression\n",
    "\n",
    "1. Demo - Date and Time\n",
    "\n",
    "1. Demo - Decision Trees\n",
    "\n",
    "1. Demo - Logistic & Titanic\n",
    "\n",
    "1. Demo - k-Nearest Neighbors\n",
    "\n",
    "1. Demo - Logistic Regression\n",
    "\n",
    "1. Demo - Titanic Logistic Regression\n",
    "\n",
    "1. Demo - Boston Housing\n",
    "\n",
    "1. Demo - Ensemble\n",
    "\n",
    "1. Demo - Model Evaluation\n",
    "\n",
    "1. Demo - Text Sentiment\n",
    "\n",
    "    "
   ]
  },
  {
   "cell_type": "code",
   "execution_count": null,
   "metadata": {},
   "outputs": [],
   "source": []
  }
 ],
 "metadata": {
  "kernelspec": {
   "display_name": "Python 3 (ipykernel)",
   "language": "python",
   "name": "python3"
  },
  "language_info": {
   "codemirror_mode": {
    "name": "ipython",
    "version": 3
   },
   "file_extension": ".py",
   "mimetype": "text/x-python",
   "name": "python",
   "nbconvert_exporter": "python",
   "pygments_lexer": "ipython3",
   "version": "3.9.7"
  }
 },
 "nbformat": 4,
 "nbformat_minor": 4
}
