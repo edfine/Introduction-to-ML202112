{
 "cells": [
  {
   "cell_type": "markdown",
   "metadata": {},
   "source": [
    "# Table of Contents"
   ]
  },
  {
   "cell_type": "markdown",
   "metadata": {},
   "source": [
    "## Slides\n",
    "\n",
    "Demo - Jupyter\n",
    "\n",
    "Demo - SF vs. NY\n",
    "\n",
    "Demo - Pandas\n",
    "\n",
    "Demo - Scikit-learn\n",
    "\n",
    "Demo - Linear Regression\n",
    "\n",
    "Demo - Decision Trees\n",
    "\n",
    "Demo - Titanic\n",
    "\n",
    "Demo - k-Nearest Neighbors\n",
    "\n",
    "Demo - Boston Housing\n",
    "\n",
    "Demo - Date and Time *\n",
    "\n",
    "Demo - Logistic Regression*\n",
    "\n",
    "Demo - Titanic Logistic Regression*\n",
    "\n",
    "Demo - Model Evaluation\n",
    "\n",
    "Demo - Ensemble\n",
    "\n",
    "Demo - Text Sentiment\n",
    "\n",
    "(* optional based on interest and time)        "
   ]
  },
  {
   "cell_type": "code",
   "execution_count": null,
   "metadata": {},
   "outputs": [],
   "source": []
  }
 ],
 "metadata": {
  "language_info": {
   "name": "python"
  },
  "orig_nbformat": 4
 },
 "nbformat": 4,
 "nbformat_minor": 2
}
