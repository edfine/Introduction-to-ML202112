{
 "cells": [
  {
   "cell_type": "markdown",
   "metadata": {},
   "source": [
    "# Ensembles of Predictors\n",
    "\n",
    "Ensemble methods\n",
    "\n",
    "The goal of **ensemble methods** is to combine the predictions of several\n",
    "base estimators built with a given learning algorithm in order to improve\n",
    "generalizability / robustness over a single estimator.\n",
    "\n",
    "Two families of ensemble methods are usually distinguished:\n",
    "\n",
    "- In **averaging methods**\n",
    "  * build several estimators independently and then to average their predictions. \n",
    "\n",
    "  * the combined estimator is usually better than any of the single base\n",
    "  estimator because its variance is reduced, without increasing bias\n",
    "\n",
    "  * These can be parallelized and don't contribute to overfitting, more than the underlying estimators\n",
    "\n",
    "  **Examples:** `Bagging methods`, `Random Forests`, ...\n",
    "\n",
    "- By contrast, in **boosting methods**\n",
    "  * base estimators are built sequentially and each one tries to reduce the bias of the combined estimator. The motivation is to combine several weak models to produce a powerful ensemble.\n",
    "\n",
    "  **Examples:** `AdaBoost`, `Gradient Tree Boosting`, ...\n",
    "\n"
   ]
  },
  {
   "cell_type": "markdown",
   "metadata": {},
   "source": [
    "## Gradient Tree Boosting\n",
    "\n",
    "Boosting is the idea of making sequential models (called weak learers) that focus on the areas where previous learners had trouble getting the correct answer. \n",
    "\n",
    "Gradient Tree Boosting or Gradient Boosted Decision Trees (GBDT) is a generalization of boosting to arbitrary differentiable loss functions. GBDT is an accurate and effective off-the-shelf procedure that can be used for both regression and classification problems in a variety of areas including Web search ranking and ecology.  Until the mid 2010s this was being used at leading search engines.\n",
    "\n",
    "The module sklearn.ensemble provides methods for both classification and regression via gradient boosted decision trees."
   ]
  },
  {
   "cell_type": "markdown",
   "metadata": {},
   "source": [
    "\n",
    "## Gradient Boosting regression\n",
    "\n",
    "This example demonstrates Gradient Boosting to produce a predictive\n",
    "model from an ensemble of weak predictive models. Gradient boosting can be used\n",
    "for regression and classification problems. Here, we will train a model to\n",
    "tackle a diabetes regression task. We will obtain the results from\n",
    ":class:`~sklearn.ensemble.GradientBoostingRegressor` with least squares loss\n",
    "and 500 regression trees of depth 4.\n",
    "\n",
    "Note: For larger datasets (n_samples >= 10000), please use the much faster\n",
    ":class:`~sklearn.ensemble.HistGradientBoostingRegressor`."
   ]
  },
  {
   "cell_type": "markdown",
   "metadata": {},
   "source": []
  },
  {
   "cell_type": "code",
   "execution_count": null,
   "metadata": {},
   "outputs": [],
   "source": [
    "import matplotlib.pyplot as plt\n",
    "import numpy as np\n",
    "from sklearn import datasets, ensemble\n",
    "from sklearn.inspection import permutation_importance\n",
    "from sklearn.metrics import mean_squared_error\n",
    "from sklearn.model_selection import train_test_split"
   ]
  },
  {
   "cell_type": "code",
   "execution_count": null,
   "metadata": {},
   "outputs": [],
   "source": [
    "diabetes = datasets.load_diabetes()\n",
    "X, y = diabetes.data, diabetes.target"
   ]
  },
  {
   "cell_type": "markdown",
   "metadata": {},
   "source": [
    "## Data preprocessing\n",
    "\n",
    "Next, we will split our dataset to use 90% for training and leave the rest\n",
    "for testing. We will also set the regression model parameters. You can play\n",
    "with these parameters to see how the results change.\n",
    "\n",
    "n_estimators : the number of boosting stages that will be performed.\n",
    "Later, we will plot deviance against boosting iterations.\n",
    "\n",
    "max_depth : limits the number of nodes in the tree.\n",
    "The best value depends on the interaction of the input variables.\n",
    "\n",
    "min_samples_split : the minimum number of samples required to split an\n",
    "internal node.\n",
    "\n",
    "learning_rate : how much the contribution of each tree will shrink.\n",
    "\n",
    "loss : loss function to optimize. The least squares function is  used in this\n",
    "case however, there are many other options (see\n",
    "`~sklearn.ensemble.GradientBoostingRegressor` )."
   ]
  },
  {
   "cell_type": "markdown",
   "metadata": {},
   "source": []
  },
  {
   "cell_type": "code",
   "execution_count": null,
   "metadata": {
    "collapsed": false
   },
   "outputs": [],
   "source": [
    "X_train, X_test, y_train, y_test = train_test_split(\n",
    "    X, y, test_size=0.1, random_state=13)\n",
    "\n",
    "params = {'n_estimators': 500,\n",
    "          'max_depth': 4,\n",
    "          'min_samples_split': 5,\n",
    "          'learning_rate': 0.01,\n",
    "          'loss': 'ls'}"
   ]
  },
  {
   "cell_type": "code",
   "execution_count": null,
   "metadata": {},
   "outputs": [],
   "source": [
    "X_train.shape"
   ]
  },
  {
   "cell_type": "markdown",
   "metadata": {},
   "source": [
    "## Fit regression model\n",
    "\n",
    "Now we will initiate the gradient boosting regressors and fit it with our\n",
    "training data. Let's also look and the mean squared error on the test data.\n",
    "\n"
   ]
  },
  {
   "cell_type": "code",
   "execution_count": null,
   "metadata": {
    "collapsed": false
   },
   "outputs": [],
   "source": [
    "reg = ensemble.GradientBoostingRegressor(**params)\n",
    "reg.fit(X_train, y_train)\n",
    "\n",
    "mse = mean_squared_error(y_test, reg.predict(X_test))\n",
    "print(\"The mean squared error (MSE) on test set: {:.4f}\".format(mse))"
   ]
  },
  {
   "cell_type": "markdown",
   "metadata": {},
   "source": [
    "## Plot training deviance\n",
    "\n",
    "Finally, we will visualize the results. To do that we will first compute the\n",
    "test set deviance and then plot it against boosting iterations.\n",
    "\n"
   ]
  },
  {
   "cell_type": "code",
   "execution_count": null,
   "metadata": {
    "collapsed": false
   },
   "outputs": [],
   "source": [
    "test_score = np.zeros((params['n_estimators'],), dtype=np.float64)\n",
    "for i, y_pred in enumerate(reg.staged_predict(X_test)):\n",
    "    test_score[i] = reg.loss_(y_test, y_pred)\n",
    "\n",
    "fig = plt.figure(figsize=(6, 6))\n",
    "plt.subplot(1, 1, 1)\n",
    "plt.title('Deviance')\n",
    "plt.plot(np.arange(params['n_estimators']) + 1, reg.train_score_, 'b-',\n",
    "         label='Training Set Deviance')\n",
    "plt.plot(np.arange(params['n_estimators']) + 1, test_score, 'r-',\n",
    "         label='Test Set Deviance')\n",
    "plt.legend(loc='upper right')\n",
    "plt.xlabel('Boosting Iterations')\n",
    "plt.ylabel('Deviance')\n",
    "fig.tight_layout()\n",
    "plt.show()"
   ]
  },
  {
   "cell_type": "markdown",
   "metadata": {},
   "source": [
    "## Plot feature importance\n",
    "\n",
    "Careful, impurity-based feature importances can be misleading for\n",
    "high cardinality features (many unique values). As an alternative,\n",
    "the permutation importances of ``reg`` can be computed on a\n",
    "held out test set. See `permutation_importance` for more details.\n",
    "\n",
    "For this example, the impurity-based and permutation methods identify the\n",
    "same 2 strongly predictive features but not in the same order. The third most\n",
    "predictive feature, \"bp\", is also the same for the 2 methods. The remaining\n",
    "features are less predictive and the error bars of the permutation plot\n",
    "show that they overlap with 0.\n",
    "\n"
   ]
  },
  {
   "cell_type": "code",
   "execution_count": null,
   "metadata": {
    "collapsed": false
   },
   "outputs": [],
   "source": [
    "feature_importance = reg.feature_importances_\n",
    "sorted_idx = np.argsort(feature_importance)\n",
    "pos = np.arange(sorted_idx.shape[0]) + .5\n",
    "fig = plt.figure(figsize=(12, 6))\n",
    "plt.subplot(1, 2, 1)\n",
    "plt.barh(pos, feature_importance[sorted_idx], align='center')\n",
    "plt.yticks(pos, np.array(diabetes.feature_names)[sorted_idx])\n",
    "plt.title('Feature Importance (MDI)')\n",
    "\n",
    "result = permutation_importance(reg, X_test, y_test, n_repeats=10,\n",
    "                                random_state=42, n_jobs=2)\n",
    "sorted_idx = result.importances_mean.argsort()\n",
    "plt.subplot(1, 2, 2)\n",
    "plt.boxplot(result.importances[sorted_idx].T,\n",
    "            vert=False, labels=np.array(diabetes.feature_names)[sorted_idx])\n",
    "plt.title(\"Permutation Importance (test set)\")\n",
    "fig.tight_layout()\n",
    "plt.show()"
   ]
  },
  {
   "cell_type": "code",
   "execution_count": null,
   "metadata": {},
   "outputs": [],
   "source": []
  }
 ],
 "metadata": {
  "interpreter": {
   "hash": "f2dae7b8263cf48ae2a1e3e9322b329ad42c2d28af1ff5f49870594264262771"
  },
  "kernelspec": {
   "display_name": "Python 3.8.8 64-bit ('data-train': conda)",
   "name": "python3"
  },
  "language_info": {
   "codemirror_mode": {
    "name": "ipython",
    "version": 3
   },
   "file_extension": ".py",
   "mimetype": "text/x-python",
   "name": "python",
   "nbconvert_exporter": "python",
   "pygments_lexer": "ipython3",
   "version": "3.8.8"
  },
  "orig_nbformat": 4
 },
 "nbformat": 4,
 "nbformat_minor": 2
}
